{
  "nbformat": 4,
  "nbformat_minor": 0,
  "metadata": {
    "colab": {
      "provenance": [],
      "authorship_tag": "ABX9TyMmIvJi+3aBKFoarW65GSGK",
      "include_colab_link": true
    },
    "kernelspec": {
      "name": "python3",
      "display_name": "Python 3"
    },
    "language_info": {
      "name": "python"
    }
  },
  "cells": [
    {
      "cell_type": "markdown",
      "metadata": {
        "id": "view-in-github",
        "colab_type": "text"
      },
      "source": [
        "<a href=\"https://colab.research.google.com/github/raunakkaul/personalprojects/blob/main/Comparing_data_sets.ipynb\" target=\"_parent\"><img src=\"https://colab.research.google.com/assets/colab-badge.svg\" alt=\"Open In Colab\"/></a>"
      ]
    },
    {
      "cell_type": "markdown",
      "source": [
        "This Python project utilizes various libraries such as NumPy, MATLAB, Seaborn, and others to process two datasets. The primary objectives include data cleaning, comparison of columns, and drawing reasonable conclusions through hypothesis testing."
      ],
      "metadata": {
        "id": "IsraOfqJ09zK"
      }
    },
    {
      "cell_type": "code",
      "execution_count": null,
      "metadata": {
        "id": "as4L5ly3ot8E"
      },
      "outputs": [],
      "source": [
        "import pandas as pd\n",
        "import numpy as np\n",
        "import scipy as sp\n",
        "import seaborn as sns\n",
        "import matplotlib.pyplot as plt\n",
        "from scipy.stats import chi2_contingency\n",
        "import seaborn as sns\n",
        "import matplotlib.image as mpimg\n",
        "import matplotlib as mpl\n",
        "from matplotlib.font_manager import FontProperties\n",
        "from matplotlib import rcParams\n",
        "import matplotlib.font_manager"
      ]
    },
    {
      "cell_type": "markdown",
      "source": [
        "Reading in the data\n"
      ],
      "metadata": {
        "id": "xSkarN6MGXJA"
      }
    },
    {
      "cell_type": "code",
      "source": [
        "mdata = pd.read_csv(\"Data1.csv\")\n"
      ],
      "metadata": {
        "id": "v_N9Fl-eq_aD"
      },
      "execution_count": null,
      "outputs": []
    },
    {
      "cell_type": "code",
      "source": [
        "fdata = pd.read_csv(\"Data2.csv\")\n",
        "\n"
      ],
      "metadata": {
        "id": "tMtTDeyXr78l"
      },
      "execution_count": null,
      "outputs": []
    },
    {
      "cell_type": "markdown",
      "source": [
        "Merging the data sets, I excluded the priming column for this\n"
      ],
      "metadata": {
        "id": "5Cb-jajZGZR3"
      }
    },
    {
      "cell_type": "code",
      "source": [
        "data = pd.concat([mdata, fdata], ignore_index=True)"
      ],
      "metadata": {
        "id": "xamYJxfUtvHV"
      },
      "execution_count": null,
      "outputs": []
    },
    {
      "cell_type": "markdown",
      "source": [
        "Deleted rows which had more than 3 missing values"
      ],
      "metadata": {
        "id": "oeCVVDS3Gewu"
      }
    },
    {
      "cell_type": "code",
      "source": [
        "missing_values = data.isna().sum(axis=1)\n",
        "\n",
        "data = data.drop(data[missing_values > 3].index)"
      ],
      "metadata": {
        "id": "yAOe_4tUsfoR"
      },
      "execution_count": null,
      "outputs": []
    },
    {
      "cell_type": "markdown",
      "source": [
        "Dropping dulpicates and performing mode imputation"
      ],
      "metadata": {
        "id": "Hhh4w18GGixF"
      }
    },
    {
      "cell_type": "code",
      "source": [
        "data.drop_duplicates()"
      ],
      "metadata": {
        "id": "gcGWuyKVwVX0"
      },
      "execution_count": null,
      "outputs": []
    },
    {
      "cell_type": "code",
      "source": [
        "data = data.fillna(data.mode().iloc[0])"
      ],
      "metadata": {
        "id": "M-_laJ2wxhtE"
      },
      "execution_count": null,
      "outputs": []
    },
    {
      "cell_type": "markdown",
      "source": [
        "Correcting the incorrectly spelled terms"
      ],
      "metadata": {
        "id": "HyoHruryGmSp"
      }
    },
    {
      "cell_type": "code",
      "source": [
        "data['What bests represents your gender?'] = data['What bests represents your gender?'].replace('Famale', 'Female')"
      ],
      "metadata": {
        "id": "1nru4ego1ogs"
      },
      "execution_count": null,
      "outputs": []
    },
    {
      "cell_type": "markdown",
      "source": [
        "## First question - How does one's gender influence their stance on financial support in the context of separate finances within a family?\n"
      ],
      "metadata": {
        "id": "EP6mWOIf8rD2"
      }
    },
    {
      "cell_type": "markdown",
      "source": [
        "Creating a contingency table"
      ],
      "metadata": {
        "id": "UHPqJLuiGo-_"
      }
    },
    {
      "cell_type": "code",
      "source": [
        "column_name =  data.iloc[:, 8]\n",
        "\n",
        "copy = data.copy()\n",
        "\n",
        "copy = copy.rename(columns={'My wife and I have separate finances, but I pay for almost everything. My son starts school next year, and I\\'m planning on sending him to a private school. My wife\\'s son currently goes to a much less nice public school. My wife says I\\'m a jerk for not paying for her daughter to go to private school as well.':'Expenses question'})\n",
        "\n"
      ],
      "metadata": {
        "colab": {
          "base_uri": "https://localhost:8080/"
        },
        "id": "Aq_yqTfJ8tIO",
        "outputId": "1e437bf4-59e8-4701-820b-8245ac5d26a3"
      },
      "execution_count": null,
      "outputs": [
        {
          "output_type": "execute_result",
          "data": {
            "text/plain": [
              "Index(['Timestamp', 'What year are you?', 'How old are you?',\n",
              "       'You could describe the adults you grew up with as...',\n",
              "       'You could describe yourself as...',\n",
              "       'How would you rate your religiousness / spirituality?',\n",
              "       'What bests represents your gender?',\n",
              "       'My girlfriend is a doctor. Lately she's been complaining about pain in her right knee and constantly taking TONS of ibuprofen to treat (like 15-20 pills a day). However, it's only gotten worse. I've told her she needs to see someone about it but she told me it was fine. So I told her that if this is how she treats herself, I'd be concerned about being her patient. She was shocked and told me that was uncalled for. Am I a jerk?',\n",
              "       'My daughter is getting married soon. I only learned about her a few years ago. We've been building a relationship the last few years though and I am lucky to have her in my life now. Recently, she asked me to walk her down the aisle and while I am honored I told her no. Her step-dad practically raised her from a baby and I think that he deserves it far more than me. She was really upset and hurt when I said no. Am I a jerk?',\n",
              "       'I'm a trust fund kid; I get a healthy 'allowance' from my parents, but I mostly sock it away since I don't really feel like I deserve it. I live with my girlfriend, who comes from a poor family, and we split things 50-50. Recently, she found out how much money my parents send me each month and freaked out, saying it wasn't fair that I was making her split things 50/50. I told her it was my money, and it only seems fair if we cover half the expenses. Am I a jerk?',\n",
              "       'Expenses question',\n",
              "       'I saw a poster for a lost cat advertising a 500 dollar reward. I saw the cat, tracked it down, and called the owner. When I met with them, they said there wasn't actually a reward, they had just listed one because they thought it would motivate people to find the cat. I kept the cat until they coughed up the reward money. Am I a jerk?',\n",
              "       'My sister's nine year old daughter is poorly behaved. One day, my sister dropped the daughter off on my doorstep without my consent and drove off, texting me that she needed me to watch her daughter for the day. The daughter complained of being hungry, so I gave her the leftovers I had. She said she didn't like them, but I told her that's all there was. She put them in the microwave until they burned, then told me she couldn't eat them and we would have to go out and get food. I told her that was what there was to eat, and if she ruined it she'd have to wait for her mom to get back. Later, everyone yelled at me for 'starving' a child. Am I a jerk?',\n",
              "       'My parents want us to come out for their anniversary, and bought my sister and I tickets on the same flight. My sister has two kids - a 6 month old and a 5 year old. She is currently separated from her husband so she would have to handle 2 children by herself on a 10 hour flight.\\n\\nShe calls me up a week or so beforehand and asks me if I will be willing to help her take care of her kids on the flight, and something about taking shifts so we can both sleep. I tell her that I wasn't comfortable with that, but she says \"nephew loves you so much\" so we can work something out on the flight and hangs up.\\n\\nWhen I got to the airport, I chose to upgrade my seat so I could sit by myself and didn't mention it until we were on the plane. My family freaked and told me I abandoned my sister. Am I a jerk?',\n",
              "       'I'm a single mom with four kids, one of whom has a different father from the other three. I get a lot of child support for one of them, and none for the other 3. 2/3rds of the child support for the eldest go towards his expenses and college fund. The other third goes towards my other children. My friend recently found out and told me it was inappropriate to use the child support intended for the one on the other three. Am I a jerk?',\n",
              "       'I have a child with a mother who never wanted anything to do with them. I make enough money to cover my expenses, but I constantly check up on the child's mother to make sure she's paying adequate child support. Periodically I either hire an investigator or her mom just tells me she got a raise and I go to court to adjust the child support accordingly. The last time I did this, she didn't show up for court and I apparently overestimated how much her raise was and I got a default judgment. She called me up and practically pleaded with me to lower her payments after I said no she insulted me and my son. Am I a jerk?',\n",
              "       'One of my children wants to go to an expensive school to become a dentist. I told them I'd be fine paying for it. The other one wants to go to a similarly expensive school to become a teacher. I told her that I wouldn't pay for her schooling unless she picked a career path that will make at least 100,000 a year. Am I a jerk?',\n",
              "       'I was in a conflict with my mother-in-law's boyfriend, in which I made a snide comment about he's never paid child support to his ex. Later, he called me and told me if I ever said anything like that ever again he'd sue me for defamation. I took the threat seriously, as he is a lawyer, and uninvited him for our wedding and told my family I couldn't be around him anymore. Am I a jerk?',\n",
              "       '\\nSome of my relatives refuse to come to my wedding, since they don't approve of our 'lifestyle'. I would like to donate the money I will save to an LBGTQ organization in their name. I’m hoping that I or the organization will be able to send them a receipt/thank you for the donation. Would I be a jerk?',\n",
              "       'My wife has decided that since she can’t drink because she is pregnant that I can’t either. I planned to take my annual leave from work to take us (and pay for) a trip abroad. I asked my wife would the drinking rule still be in effect and she said of course. I’ve now decided I won’t be paying for us to take this trip. Am I a jerk?',\n",
              "       'My sister is going to be a bridesmaid at my wedding. Her hair was dyed, but she recently decided to grow it out, so parts of it are bleached and part are not. I told her it wouldn't look good in the pictures, and offered to pay for her to dye it. She said no, and I said she couldn't be in the wedding party. Am I a jerk?',\n",
              "       'Would you describe yourself as compassionate?',\n",
              "       'My wife has decided that since she can’t drink because she is pregnant that I can’t either. I planned to take my annual leave from work to take us (and pay for) a trip abroad. I asked my wife would the drinking rule still be in effect and she said of course. I’ve now decided I won’t be paying for us to take this trip. Am I jerk?'],\n",
              "      dtype='object')"
            ]
          },
          "metadata": {},
          "execution_count": 273
        }
      ]
    },
    {
      "cell_type": "markdown",
      "source": [
        "Null hypothesis: Gender and opinion on who is right are independent\n",
        "\n",
        "Alternate hypothesis: Gender and opinion on who is right are strongly related\n"
      ],
      "metadata": {
        "id": "3_02mm-khOfq"
      }
    },
    {
      "cell_type": "code",
      "source": [
        "table = pd.crosstab(copy['What bests represents your gender?'], copy['Expenses question'])"
      ],
      "metadata": {
        "id": "DVDobDvKCm3v"
      },
      "execution_count": null,
      "outputs": []
    },
    {
      "cell_type": "markdown",
      "source": [
        "Performing a chi square test"
      ],
      "metadata": {
        "id": "geRVwprhGtAk"
      }
    },
    {
      "cell_type": "code",
      "source": [
        "chi2, p, dof, expected = chi2_contingency(table)\n",
        "\n",
        "p"
      ],
      "metadata": {
        "id": "cVOmvmN8EHgP",
        "colab": {
          "base_uri": "https://localhost:8080/"
        },
        "outputId": "af7665b2-4fa4-4f7c-df13-2d3383d5a347"
      },
      "execution_count": null,
      "outputs": [
        {
          "output_type": "execute_result",
          "data": {
            "text/plain": [
              "0.6284766927433232"
            ]
          },
          "metadata": {},
          "execution_count": 275
        }
      ]
    },
    {
      "cell_type": "markdown",
      "source": [
        "## Second Question -  Does Turning 21 make people more religious/spiritual?"
      ],
      "metadata": {
        "id": "sxdUMIIvd-z7"
      }
    },
    {
      "cell_type": "markdown",
      "source": [
        "First I will isolate those of the age I need\n"
      ],
      "metadata": {
        "id": "X_yk_Mj7ipj5"
      }
    },
    {
      "cell_type": "markdown",
      "source": [],
      "metadata": {
        "id": "hbx2SgcHipfL"
      }
    },
    {
      "cell_type": "code",
      "source": [
        "copy = data[(data['How old are you?'] == \"20\") | (data['How old are you?'] == \"21\") | (data['How old are you?'] == \"19\")| (data['How old are you?'] == \"22\") ]\n"
      ],
      "metadata": {
        "id": "M-mHm6uaiJHN"
      },
      "execution_count": null,
      "outputs": []
    },
    {
      "cell_type": "code",
      "source": [
        "contingency_table = pd.crosstab(copy['How old are you?'], copy['How would you rate your religiousness / spirituality?'])\n",
        "percentage_table = contingency_table.div(contingency_table.sum(1), axis=0) * 100\n"
      ],
      "metadata": {
        "id": "-hb6-6TIeAZz"
      },
      "execution_count": null,
      "outputs": []
    },
    {
      "cell_type": "code",
      "source": [
        "d = {\n",
        "    'year': [19,20,21, 22, 19,20,21,22,19,20,21, 22],\n",
        "    'group': ['Not spiritual at all', 'Not spiritual at all', 'Not spiritual at all',  'Not spiritual at all', 'Somewhat spiritual', 'Somewhat spiritual', 'Somewhat spiritual', 'Somewhat spiritual',\n",
        "              'Strongly spiritual', 'Strongly spiritual', 'Strongly spiritual','Strongly spiritual'],\n",
        "    'percentage': [44, 39.8, 52.5, 40, 38, 46.9, 30, 0, 18, 13.7, 17.5, 60]\n",
        "}\n",
        "df = pd.DataFrame(d)\n",
        "\n",
        "sns.set_style(\"white\")\n",
        "\n",
        "custom_palette = sns.color_palette(palette='magma')\n",
        "sns.set_palette(custom_palette)\n",
        "\n",
        "ax = sns.barplot(data=df, x=\"year\", y= \"percentage\", hue=\"group\", edgecolor = \"black\", alpha=1, saturation=1)\n",
        "\n",
        "for container in ax.containers:\n",
        "    ax.bar_label(container, label_type=\"edge\", fontsize=8, color=\"yellow\", fontweight=\"bold\")\n",
        "\n",
        "ax.bar_label(container, label_type=\"edge\", fontsize=8, color=\"yellow\")\n",
        "sns.set(rc={'font.family': 'Liberation Serif', 'font.size': 9.5})\n",
        "\n",
        "plt.xlabel('Age(Years)', color='Black', fontsize = '13', fontfamily = 'Liberation Serif')\n",
        "plt.ylabel('Percentage(%)', color = 'Black', fontsize = '13', fontfamily = 'Liberation Serif')\n",
        "plt.title('Percentage of People by Age and Spirituality', fontsize = '16', fontfamily = 'Liberation Serif')\n",
        "\n",
        "legend = plt.legend(title='Legend Title', loc='lower right', bbox_to_anchor=(1.43, 0.6))\n",
        "\n",
        "legend.set_title('')\n",
        "\n",
        "legend.get_texts()[0].set_fontsize(12)\n",
        "legend.get_texts()[1].set_fontsize(12)\n",
        "legend.get_texts()[2].set_fontsize(12)\n",
        "\n",
        "ax.spines['right'].set_visible(False)\n",
        "ax.spines['top'].set_visible(False)\n",
        "ax.spines['left'].set_visible(False)\n",
        "ax.spines['bottom'].set_visible(False)\n",
        "\n",
        "img = plt.imread(\"download.png\")\n",
        "ax.imshow(img, extent=[ax.get_xlim()[0], ax.get_xlim()[1], ax.get_ylim()[0], ax.get_ylim()[1]], aspect='auto')\n",
        "\n",
        "plt.show()"
      ],
      "metadata": {
        "colab": {
          "base_uri": "https://localhost:8080/",
          "height": 480
        },
        "id": "f7T-hMyEwI4p",
        "outputId": "ae544eef-3b0a-4d1f-dc10-81394793c23c"
      },
      "execution_count": null,
      "outputs": [
        {
          "output_type": "display_data",
          "data": {
            "text/plain": [
              "<Figure size 640x480 with 1 Axes>"
            ],
            "image/png": "[encoded data removed]"
          },
          "metadata": {}
        }
      ]
    },
    {
      "cell_type": "markdown",
      "source": [
        "## Third Question - How was your own political view shaped by the political view of the adults you grew up with?"
      ],
      "metadata": {
        "id": "mOGgMezGxI-p"
      }
    },
    {
      "cell_type": "markdown",
      "source": [
        "Contingency table"
      ],
      "metadata": {
        "id": "q3zZjuCo3kyH"
      }
    },
    {
      "cell_type": "code",
      "source": [
        "cont = pd.crosstab(data['You could describe yourself as...'], data['You could describe the adults you grew up with as...'])\n",
        "cont\n",
        "\n",
        "\n"
      ],
      "metadata": {
        "colab": {
          "base_uri": "https://localhost:8080/",
          "height": 269
        },
        "id": "COVsAGXTxMu9",
        "outputId": "7c77ab8f-9677-4b6e-83d5-e2147f2ef86d"
      },
      "execution_count": null,
      "outputs": [
        {
          "output_type": "execute_result",
          "data": {
            "text/plain": [
              "You could describe the adults you grew up with as...  Don't know / It's complicated  \\\n",
              "You could describe yourself as...                                                     \n",
              "Don't know / It's complicated                                                     6   \n",
              "Mildly conservative                                                               0   \n",
              "Mildly liberal                                                                    3   \n",
              "Neutral                                                                           5   \n",
              "Strongly conservative                                                             0   \n",
              "Strongly liberal                                                                  3   \n",
              "\n",
              "You could describe the adults you grew up with as...  Mildly conservative  \\\n",
              "You could describe yourself as...                                           \n",
              "Don't know / It's complicated                                           4   \n",
              "Mildly conservative                                                    14   \n",
              "Mildly liberal                                                         22   \n",
              "Neutral                                                                17   \n",
              "Strongly conservative                                                   1   \n",
              "Strongly liberal                                                       10   \n",
              "\n",
              "You could describe the adults you grew up with as...  Mildly liberal  Neutral  \\\n",
              "You could describe yourself as...                                               \n",
              "Don't know / It's complicated                                      1        1   \n",
              "Mildly conservative                                                4        4   \n",
              "Mildly liberal                                                    35       18   \n",
              "Neutral                                                            6       14   \n",
              "Strongly conservative                                              2        1   \n",
              "Strongly liberal                                                  18        3   \n",
              "\n",
              "You could describe the adults you grew up with as...  Strongly conservative  \\\n",
              "You could describe yourself as...                                             \n",
              "Don't know / It's complicated                                             0   \n",
              "Mildly conservative                                                       4   \n",
              "Mildly liberal                                                            6   \n",
              "Neutral                                                                   2   \n",
              "Strongly conservative                                                     4   \n",
              "Strongly liberal                                                          5   \n",
              "\n",
              "You could describe the adults you grew up with as...  Strongly liberal  \n",
              "You could describe yourself as...                                       \n",
              "Don't know / It's complicated                                        1  \n",
              "Mildly conservative                                                  0  \n",
              "Mildly liberal                                                       5  \n",
              "Neutral                                                              0  \n",
              "Strongly conservative                                                1  \n",
              "Strongly liberal                                                     8  "
            ],
            "text/html": [
              "\n",
              "  <div id=\"df-d39df9f0-2964-4dcc-b462-3d6be97fd830\" class=\"colab-df-container\">\n",
              "    <div>\n",
              "<style scoped>\n",
              "    .dataframe tbody tr th:only-of-type {\n",
              "        vertical-align: middle;\n",
              "    }\n",
              "\n",
              "    .dataframe tbody tr th {\n",
              "        vertical-align: top;\n",
              "    }\n",
              "\n",
              "    .dataframe thead th {\n",
              "        text-align: right;\n",
              "    }\n",
              "</style>\n",
              "<table border=\"1\" class=\"dataframe\">\n",
              "  <thead>\n",
              "    <tr style=\"text-align: right;\">\n",
              "      <th>You could describe the adults you grew up with as...</th>\n",
              "      <th>Don't know / It's complicated</th>\n",
              "      <th>Mildly conservative</th>\n",
              "      <th>Mildly liberal</th>\n",
              "      <th>Neutral</th>\n",
              "      <th>Strongly conservative</th>\n",
              "      <th>Strongly liberal</th>\n",
              "    </tr>\n",
              "    <tr>\n",
              "      <th>You could describe yourself as...</th>\n",
              "      <th></th>\n",
              "      <th></th>\n",
              "      <th></th>\n",
              "      <th></th>\n",
              "      <th></th>\n",
              "      <th></th>\n",
              "    </tr>\n",
              "  </thead>\n",
              "  <tbody>\n",
              "    <tr>\n",
              "      <th>Don't know / It's complicated</th>\n",
              "      <td>6</td>\n",
              "      <td>4</td>\n",
              "      <td>1</td>\n",
              "      <td>1</td>\n",
              "      <td>0</td>\n",
              "      <td>1</td>\n",
              "    </tr>\n",
              "    <tr>\n",
              "      <th>Mildly conservative</th>\n",
              "      <td>0</td>\n",
              "      <td>14</td>\n",
              "      <td>4</td>\n",
              "      <td>4</td>\n",
              "      <td>4</td>\n",
              "      <td>0</td>\n",
              "    </tr>\n",
              "    <tr>\n",
              "      <th>Mildly liberal</th>\n",
              "      <td>3</td>\n",
              "      <td>22</td>\n",
              "      <td>35</td>\n",
              "      <td>18</td>\n",
              "      <td>6</td>\n",
              "      <td>5</td>\n",
              "    </tr>\n",
              "    <tr>\n",
              "      <th>Neutral</th>\n",
              "      <td>5</td>\n",
              "      <td>17</td>\n",
              "      <td>6</td>\n",
              "      <td>14</td>\n",
              "      <td>2</td>\n",
              "      <td>0</td>\n",
              "    </tr>\n",
              "    <tr>\n",
              "      <th>Strongly conservative</th>\n",
              "      <td>0</td>\n",
              "      <td>1</td>\n",
              "      <td>2</td>\n",
              "      <td>1</td>\n",
              "      <td>4</td>\n",
              "      <td>1</td>\n",
              "    </tr>\n",
              "    <tr>\n",
              "      <th>Strongly liberal</th>\n",
              "      <td>3</td>\n",
              "      <td>10</td>\n",
              "      <td>18</td>\n",
              "      <td>3</td>\n",
              "      <td>5</td>\n",
              "      <td>8</td>\n",
              "    </tr>\n",
              "  </tbody>\n",
              "</table>\n",
              "</div>\n",
              "    <div class=\"colab-df-buttons\">\n",
              "\n",
              "  <div class=\"colab-df-container\">\n",
              "    <button class=\"colab-df-convert\" onclick=\"convertToInteractive('df-d39df9f0-2964-4dcc-b462-3d6be97fd830')\"\n",
              "            title=\"Convert this dataframe to an interactive table.\"\n",
              "            style=\"display:none;\">\n",
              "\n",
              "  <svg xmlns=\"http://www.w3.org/2000/svg\" height=\"24px\" viewBox=\"0 -960 960 960\">\n",
              "    <path d=\"M120-120v-720h720v720H120Zm60-500h600v-160H180v160Zm220 220h160v-160H400v160Zm0 220h160v-160H400v160ZM180-400h160v-160H180v160Zm440 0h160v-160H620v160ZM180-180h160v-160H180v160Zm440 0h160v-160H620v160Z\"/>\n",
              "  </svg>\n",
              "    </button>\n",
              "\n",
              "  <style>\n",
              "    .colab-df-container {\n",
              "      display:flex;\n",
              "      gap: 12px;\n",
              "    }\n",
              "\n",
              "    .colab-df-convert {\n",
              "      background-color: #E8F0FE;\n",
              "      border: none;\n",
              "      border-radius: 50%;\n",
              "      cursor: pointer;\n",
              "      display: none;\n",
              "      fill: #1967D2;\n",
              "      height: 32px;\n",
              "      padding: 0 0 0 0;\n",
              "      width: 32px;\n",
              "    }\n",
              "\n",
              "    .colab-df-convert:hover {\n",
              "      background-color: #E2EBFA;\n",
              "      box-shadow: 0px 1px 2px rgba(60, 64, 67, 0.3), 0px 1px 3px 1px rgba(60, 64, 67, 0.15);\n",
              "      fill: #174EA6;\n",
              "    }\n",
              "\n",
              "    .colab-df-buttons div {\n",
              "      margin-bottom: 4px;\n",
              "    }\n",
              "\n",
              "    [theme=dark] .colab-df-convert {\n",
              "      background-color: #3B4455;\n",
              "      fill: #D2E3FC;\n",
              "    }\n",
              "\n",
              "    [theme=dark] .colab-df-convert:hover {\n",
              "      background-color: #434B5C;\n",
              "      box-shadow: 0px 1px 3px 1px rgba(0, 0, 0, 0.15);\n",
              "      filter: drop-shadow(0px 1px 2px rgba(0, 0, 0, 0.3));\n",
              "      fill: #FFFFFF;\n",
              "    }\n",
              "  </style>\n",
              "\n",
              "    <script>\n",
              "      const buttonEl =\n",
              "        document.querySelector('#df-d39df9f0-2964-4dcc-b462-3d6be97fd830 button.colab-df-convert');\n",
              "      buttonEl.style.display =\n",
              "        google.colab.kernel.accessAllowed ? 'block' : 'none';\n",
              "\n",
              "      async function convertToInteractive(key) {\n",
              "        const element = document.querySelector('#df-d39df9f0-2964-4dcc-b462-3d6be97fd830');\n",
              "        const dataTable =\n",
              "          await google.colab.kernel.invokeFunction('convertToInteractive',\n",
              "                                                    [key], {});\n",
              "        if (!dataTable) return;\n",
              "\n",
              "        const docLinkHtml = 'Like what you see? Visit the ' +\n",
              "          '<a target=\"_blank\" href=https://colab.research.google.com/notebooks/data_table.ipynb>data table notebook</a>'\n",
              "          + ' to learn more about interactive tables.';\n",
              "        element.innerHTML = '';\n",
              "        dataTable['output_type'] = 'display_data';\n",
              "        await google.colab.output.renderOutput(dataTable, element);\n",
              "        const docLink = document.createElement('div');\n",
              "        docLink.innerHTML = docLinkHtml;\n",
              "        element.appendChild(docLink);\n",
              "      }\n",
              "    </script>\n",
              "  </div>\n",
              "\n",
              "\n",
              "<div id=\"df-248cb183-40a7-4225-8994-cab812cc2e2d\">\n",
              "  <button class=\"colab-df-quickchart\" onclick=\"quickchart('df-248cb183-40a7-4225-8994-cab812cc2e2d')\"\n",
              "            title=\"Suggest charts.\"\n",
              "            style=\"display:none;\">\n",
              "\n",
              "<svg xmlns=\"http://www.w3.org/2000/svg\" height=\"24px\"viewBox=\"0 0 24 24\"\n",
              "     width=\"24px\">\n",
              "    <g>\n",
              "        <path d=\"M19 3H5c-1.1 0-2 .9-2 2v14c0 1.1.9 2 2 2h14c1.1 0 2-.9 2-2V5c0-1.1-.9-2-2-2zM9 17H7v-7h2v7zm4 0h-2V7h2v10zm4 0h-2v-4h2v4z\"/>\n",
              "    </g>\n",
              "</svg>\n",
              "  </button>\n",
              "\n",
              "<style>\n",
              "  .colab-df-quickchart {\n",
              "      --bg-color: #E8F0FE;\n",
              "      --fill-color: #1967D2;\n",
              "      --hover-bg-color: #E2EBFA;\n",
              "      --hover-fill-color: #174EA6;\n",
              "      --disabled-fill-color: #AAA;\n",
              "      --disabled-bg-color: #DDD;\n",
              "  }\n",
              "\n",
              "  [theme=dark] .colab-df-quickchart {\n",
              "      --bg-color: #3B4455;\n",
              "      --fill-color: #D2E3FC;\n",
              "      --hover-bg-color: #434B5C;\n",
              "      --hover-fill-color: #FFFFFF;\n",
              "      --disabled-bg-color: #3B4455;\n",
              "      --disabled-fill-color: #666;\n",
              "  }\n",
              "\n",
              "  .colab-df-quickchart {\n",
              "    background-color: var(--bg-color);\n",
              "    border: none;\n",
              "    border-radius: 50%;\n",
              "    cursor: pointer;\n",
              "    display: none;\n",
              "    fill: var(--fill-color);\n",
              "    height: 32px;\n",
              "    padding: 0;\n",
              "    width: 32px;\n",
              "  }\n",
              "\n",
              "  .colab-df-quickchart:hover {\n",
              "    background-color: var(--hover-bg-color);\n",
              "    box-shadow: 0 1px 2px rgba(60, 64, 67, 0.3), 0 1px 3px 1px rgba(60, 64, 67, 0.15);\n",
              "    fill: var(--button-hover-fill-color);\n",
              "  }\n",
              "\n",
              "  .colab-df-quickchart-complete:disabled,\n",
              "  .colab-df-quickchart-complete:disabled:hover {\n",
              "    background-color: var(--disabled-bg-color);\n",
              "    fill: var(--disabled-fill-color);\n",
              "    box-shadow: none;\n",
              "  }\n",
              "\n",
              "  .colab-df-spinner {\n",
              "    border: 2px solid var(--fill-color);\n",
              "    border-color: transparent;\n",
              "    border-bottom-color: var(--fill-color);\n",
              "    animation:\n",
              "      spin 1s steps(1) infinite;\n",
              "  }\n",
              "\n",
              "  @keyframes spin {\n",
              "    0% {\n",
              "      border-color: transparent;\n",
              "      border-bottom-color: var(--fill-color);\n",
              "      border-left-color: var(--fill-color);\n",
              "    }\n",
              "    20% {\n",
              "      border-color: transparent;\n",
              "      border-left-color: var(--fill-color);\n",
              "      border-top-color: var(--fill-color);\n",
              "    }\n",
              "    30% {\n",
              "      border-color: transparent;\n",
              "      border-left-color: var(--fill-color);\n",
              "      border-top-color: var(--fill-color);\n",
              "      border-right-color: var(--fill-color);\n",
              "    }\n",
              "    40% {\n",
              "      border-color: transparent;\n",
              "      border-right-color: var(--fill-color);\n",
              "      border-top-color: var(--fill-color);\n",
              "    }\n",
              "    60% {\n",
              "      border-color: transparent;\n",
              "      border-right-color: var(--fill-color);\n",
              "    }\n",
              "    80% {\n",
              "      border-color: transparent;\n",
              "      border-right-color: var(--fill-color);\n",
              "      border-bottom-color: var(--fill-color);\n",
              "    }\n",
              "    90% {\n",
              "      border-color: transparent;\n",
              "      border-bottom-color: var(--fill-color);\n",
              "    }\n",
              "  }\n",
              "</style>\n",
              "\n",
              "  <script>\n",
              "    async function quickchart(key) {\n",
              "      const quickchartButtonEl =\n",
              "        document.querySelector('#' + key + ' button');\n",
              "      quickchartButtonEl.disabled = true;  // To prevent multiple clicks.\n",
              "      quickchartButtonEl.classList.add('colab-df-spinner');\n",
              "      try {\n",
              "        const charts = await google.colab.kernel.invokeFunction(\n",
              "            'suggestCharts', [key], {});\n",
              "      } catch (error) {\n",
              "        console.error('Error during call to suggestCharts:', error);\n",
              "      }\n",
              "      quickchartButtonEl.classList.remove('colab-df-spinner');\n",
              "      quickchartButtonEl.classList.add('colab-df-quickchart-complete');\n",
              "    }\n",
              "    (() => {\n",
              "      let quickchartButtonEl =\n",
              "        document.querySelector('#df-248cb183-40a7-4225-8994-cab812cc2e2d button');\n",
              "      quickchartButtonEl.style.display =\n",
              "        google.colab.kernel.accessAllowed ? 'block' : 'none';\n",
              "    })();\n",
              "  </script>\n",
              "</div>\n",
              "    </div>\n",
              "  </div>\n"
            ]
          },
          "metadata": {},
          "execution_count": 284
        }
      ]
    },
    {
      "cell_type": "markdown",
      "source": [
        "Null Hypothesis - Political view of adults you grew up with and your own political view are indepentent\n",
        "\n",
        "Alternate - Political view of adults you grew up with and your own political view are strongly related"
      ],
      "metadata": {
        "id": "kUZ9peQQ3xrm"
      }
    },
    {
      "cell_type": "code",
      "source": [
        "chi2, p, dof, expected = chi2_contingency(cont)\n",
        "p"
      ],
      "metadata": {
        "id": "UdC0mHhByNFf",
        "colab": {
          "base_uri": "https://localhost:8080/"
        },
        "outputId": "e1cfc09c-e5ea-4ebe-9220-a4d9b8f279c1"
      },
      "execution_count": null,
      "outputs": [
        {
          "output_type": "execute_result",
          "data": {
            "text/plain": [
              "1.6393130083128348e-09"
            ]
          },
          "metadata": {},
          "execution_count": 285
        }
      ]
    },
    {
      "cell_type": "markdown",
      "source": [
        "Null hypothesis is accepted."
      ],
      "metadata": {
        "id": "Cf6wJMDC5z3z"
      }
    },
    {
      "cell_type": "markdown",
      "source": [],
      "metadata": {
        "id": "IMiDugDXwIgI"
      }
    }
  ]
}