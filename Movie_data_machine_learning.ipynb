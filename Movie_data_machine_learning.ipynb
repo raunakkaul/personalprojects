{
  "nbformat": 4,
  "nbformat_minor": 0,
  "metadata": {
    "colab": {
      "provenance": [],
      "include_colab_link": true
    },
    "kernelspec": {
      "name": "python3",
      "display_name": "Python 3"
    },
    "language_info": {
      "name": "python"
    }
  },
  "cells": [
    {
      "cell_type": "markdown",
      "metadata": {
        "id": "view-in-github",
        "colab_type": "text"
      },
      "source": [
        "<a href=\"https://colab.research.google.com/github/raunakkaul/personalprojects/blob/main/Movie_data_machine_learning.ipynb\" target=\"_parent\"><img src=\"https://colab.research.google.com/assets/colab-badge.svg\" alt=\"Open In Colab\"/></a>"
      ]
    },
    {
      "cell_type": "code",
      "source": [
        "Predictive model using machine learning algorithms to forecast the success of movies based on various variables. Feature engineering techniques were implemented to optimize datasets, improving the overall performance of the model. The development process involved leveraging scikit-learn and sentiment analysis for efficient analysis of movie reviews, contributing to a comprehensive approach in building and assessing the model."
      ],
      "metadata": {
        "id": "4DA26nmt1Xzy"
      },
      "execution_count": null,
      "outputs": []
    },
    {
      "cell_type": "markdown",
      "source": [
        "\n",
        "* Title: The movie's title\n",
        "* Genre: The movie's genre\n",
        "* Stars: The number of famous actors in the movie\n",
        "* Runtime: The length of the movie's runtime\n",
        "* Budget: How much was spent on filming the movie (in millions)\n",
        "* Promo: How much money was spent promoting the movie (in millions)\n",
        "* Season: The season in which the movie was released\n",
        "* Rating: The movie's rating\n",
        "* R1: Reviewer 1's review\n",
        "* R1: Reviewer 2's review\n",
        "* R1: Reviewer 3's review\n",
        "\n",
        "And the target variable:\n",
        "\n",
        "* Success: Whether the film was a success or a flop"
      ],
      "metadata": {
        "id": "y2MZurcV4Dqo"
      }
    },
    {
      "cell_type": "markdown",
      "source": [
        "# Data loading\n",
        "\n",
        "Load the data"
      ],
      "metadata": {
        "id": "pMd--NtS6UYo"
      }
    },
    {
      "cell_type": "code",
      "source": [
        "!pip install vaderSentiment"
      ],
      "metadata": {
        "colab": {
          "base_uri": "https://localhost:8080/"
        },
        "id": "hLMDhEvJbndp",
        "outputId": "43749fe6-2111-4519-da88-7aa5f320a1ab"
      },
      "execution_count": null,
      "outputs": [
        {
          "output_type": "stream",
          "name": "stdout",
          "text": [
            "Requirement already satisfied: vaderSentiment in /usr/local/lib/python3.10/dist-packages (3.3.2)\n",
            "Requirement already satisfied: requests in /usr/local/lib/python3.10/dist-packages (from vaderSentiment) (2.31.0)\n",
            "Requirement already satisfied: charset-normalizer<4,>=2 in /usr/local/lib/python3.10/dist-packages (from requests->vaderSentiment) (3.3.2)\n",
            "Requirement already satisfied: idna<4,>=2.5 in /usr/local/lib/python3.10/dist-packages (from requests->vaderSentiment) (3.6)\n",
            "Requirement already satisfied: urllib3<3,>=1.21.1 in /usr/local/lib/python3.10/dist-packages (from requests->vaderSentiment) (2.0.7)\n",
            "Requirement already satisfied: certifi>=2017.4.17 in /usr/local/lib/python3.10/dist-packages (from requests->vaderSentiment) (2023.11.17)\n"
          ]
        }
      ]
    },
    {
      "cell_type": "code",
      "execution_count": null,
      "metadata": {
        "id": "pPlRDp5R1Di5"
      },
      "outputs": [],
      "source": [
        "\n",
        "from vaderSentiment.vaderSentiment import SentimentIntensityAnalyzer\n",
        "import pandas as pd\n",
        "import numpy as np\n",
        "from scipy.stats import chi2_contingency\n",
        "import seaborn as sns\n",
        "import matplotlib.pyplot as plt\n",
        "from sklearn.model_selection import train_test_split\n",
        "from sklearn.tree import DecisionTreeClassifier\n",
        "from sklearn.metrics import accuracy_score\n",
        "from sklearn.metrics import confusion_matrix\n",
        "from sklearn.ensemble import RandomForestClassifier\n",
        "\n",
        "\n",
        "df = pd.read_csv(\"Data.csv\")"
      ]
    },
    {
      "cell_type": "code",
      "source": [
        "#Drop meaningless column\n",
        "df = df.drop('Unnamed: 0', axis=1)"
      ],
      "metadata": {
        "id": "ALQqxg3RClZm"
      },
      "execution_count": null,
      "outputs": []
    },
    {
      "cell_type": "markdown",
      "source": [
        "# Data Cleaning\n",
        "\n",
        "*Runtime for some movies is 0 which is not possible. I will fix this by doing mean imputation. Runtime across all movies is mostly similar, so this should not affect data.\n",
        "\n",
        "*Stars for some movies is 100 which is not possible, especially given the low movie budget. I will omit these values as there is not a way to estimate their number of stars without assigning mostly arbitray values. While mode imputaiton is possible, the difference of even 1 star extra or 1 star less might have a big  impact on the target variable so I would rather not take the risk. Additionally, there are very few entries like this so that dataset will not be heavily affected.\n",
        "\n",
        "*The budget for some movies is incredibly high. This is most likely a typo and they are likely not entered in the correct units. Each of these typos seem to be entered as a raw value rather than in millions(which is the unit for the rest of the data). I will fix this by converting the value into millions."
      ],
      "metadata": {
        "id": "yH21qcym6a03"
      }
    },
    {
      "cell_type": "code",
      "source": [
        "#Runtime fix\n",
        "df['Runtime'].replace(0, np.nan, inplace=True)\n",
        "\n",
        "mean = df['Runtime'].mean()\n",
        "\n",
        "df['Runtime'].fillna(mean, inplace=True)"
      ],
      "metadata": {
        "id": "bNLnmnpV4DUY"
      },
      "execution_count": null,
      "outputs": []
    },
    {
      "cell_type": "code",
      "source": [
        "#Stars fix\n",
        "df = df[df['Stars'] != 100]"
      ],
      "metadata": {
        "id": "gWpYaD6aWKCh"
      },
      "execution_count": null,
      "outputs": []
    },
    {
      "cell_type": "code",
      "source": [
        "#Budget fix\n",
        "df['Budget'] = df['Budget'].apply(lambda x: x / 1000000.0 if x > 1000000.0 else x)"
      ],
      "metadata": {
        "id": "hoDEd9l4XPoj"
      },
      "execution_count": null,
      "outputs": []
    },
    {
      "cell_type": "markdown",
      "source": [
        "# Data Exploration\n",
        "\n",
        "\n",
        "\n"
      ],
      "metadata": {
        "id": "dHokHRPI66lw"
      }
    },
    {
      "cell_type": "markdown",
      "source": [
        "Does Season have a stastically significant impact on a movie's success?\n",
        "\n",
        "**p-value:** 0.006534648782285328"
      ],
      "metadata": {
        "id": "OHbNovM57Lj7"
      }
    },
    {
      "cell_type": "code",
      "source": [
        "#Contingency table\n",
        "cont = pd.crosstab(df['Season'], df['Success'])\n",
        "print(cont)\n",
        "\n",
        "#Getting p-value\n",
        "chi, p, a, b = chi2_contingency(cont)\n",
        "\n",
        "print(\"P-value  is:\", p)"
      ],
      "metadata": {
        "id": "XGZlyOBW65-B",
        "colab": {
          "base_uri": "https://localhost:8080/"
        },
        "outputId": "6bbbdf89-904c-4bd2-8325-2363ff5ae0b9"
      },
      "execution_count": null,
      "outputs": [
        {
          "output_type": "stream",
          "name": "stdout",
          "text": [
            "Success  False  True \n",
            "Season               \n",
            "Fall        89     23\n",
            "Spring      87     10\n",
            "Summer     149     58\n",
            "Winter      95     27\n",
            "P-value  is: 0.006534648782285328\n"
          ]
        }
      ]
    },
    {
      "cell_type": "markdown",
      "source": [
        "Here, due to a low p-value of less than 0.05, we can reject the null hypothesis and conclude that season does have a statistically significant impact on a movie's success."
      ],
      "metadata": {
        "id": "q2JJABrUYg7V"
      }
    },
    {
      "cell_type": "markdown",
      "source": [
        "Do seasons have a statistically significant difference in their distribution of content ratings?\n",
        "\n",
        "**p-value:** 0.2096305929818337"
      ],
      "metadata": {
        "id": "OM6_URSkBXDz"
      }
    },
    {
      "cell_type": "code",
      "source": [
        "#Making contingency table\n",
        "cont = pd.crosstab(df['Season'], df['Rating'])\n",
        "print(cont)\n",
        "\n",
        "#Getting p-value\n",
        "chi2, p, a, b = chi2_contingency(cont)\n",
        "print(\"P-value  is:\", p)"
      ],
      "metadata": {
        "id": "GtSbRZxOBeXC",
        "colab": {
          "base_uri": "https://localhost:8080/"
        },
        "outputId": "41a3f34f-38e6-4773-ea52-967d80d91265"
      },
      "execution_count": null,
      "outputs": [
        {
          "output_type": "stream",
          "name": "stdout",
          "text": [
            "Rating  PG  PG13   R\n",
            "Season              \n",
            "Fall    42    38  32\n",
            "Spring  33    35  29\n",
            "Summer  64    71  72\n",
            "Winter  55    39  28\n",
            "P-value  is: 0.2096305929818337\n"
          ]
        }
      ]
    },
    {
      "cell_type": "markdown",
      "source": [
        "The p-value is quite high, so it is likely that we can accecpt the null hypothesis and assume that season and content rating are independent of each other and there is no statistically ignificant difference in their distribution."
      ],
      "metadata": {
        "id": "OXJxXGx5Z3R1"
      }
    },
    {
      "cell_type": "markdown",
      "source": [
        "Who is the harshest critic (highest precent of negative reviews)?\n",
        "\n",
        "**Critic:**R1"
      ],
      "metadata": {
        "id": "rbhSWWp37M2Z"
      }
    },
    {
      "cell_type": "code",
      "source": [
        "#Get a sentiment score using the exsting library\n",
        "df['sent1'] = df['R1'].apply(lambda x: SentimentIntensityAnalyzer().polarity_scores(x)['compound'])\n",
        "df['sent2'] = df['R2'].apply(lambda x: SentimentIntensityAnalyzer().polarity_scores(x)['compound'])\n",
        "df['sent3'] = df['R3'].apply(lambda x: SentimentIntensityAnalyzer().polarity_scores(x)['compound'])"
      ],
      "metadata": {
        "id": "G7zgLpFCc700"
      },
      "execution_count": null,
      "outputs": []
    },
    {
      "cell_type": "code",
      "source": [
        "df['neg1'] = df['sent1'] < 0.5\n",
        "df['neg2'] = df['sent2'] < 0.5\n",
        "df['neg3'] = df['sent3'] < 0.5\n",
        "\n",
        "#Calculating which has the largest portion of reviews below a certain threshold of negative sentiment\n",
        "worst = max(('R1', df['neg1'].mean()),('R2', df['neg2'].mean()), ('R3', df['neg3'].mean()),key=lambda x: x[1])\n",
        "\n",
        "print(worst[0])\n",
        "\n"
      ],
      "metadata": {
        "id": "92CUkllO7Slx",
        "colab": {
          "base_uri": "https://localhost:8080/"
        },
        "outputId": "93554946-b557-478e-9cd9-1dbc5467d80b"
      },
      "execution_count": null,
      "outputs": [
        {
          "output_type": "stream",
          "name": "stdout",
          "text": [
            "R1\n"
          ]
        }
      ]
    },
    {
      "cell_type": "code",
      "source": [
        "#Dropping these columns as they are no longer needed\n",
        "df = df.drop('sent1', axis = 1)\n",
        "df = df.drop('sent2', axis = 1)\n",
        "df = df.drop('sent3', axis = 1)\n",
        "df = df.drop('neg1', axis = 1)\n",
        "df = df.drop('neg2', axis = 1)\n",
        "df = df.drop('neg3', axis = 1)\n"
      ],
      "metadata": {
        "id": "DS9XinZOIOb2"
      },
      "execution_count": null,
      "outputs": []
    },
    {
      "cell_type": "code",
      "source": [
        "cov = df['Promo'].cov(df['Budget'])\n",
        "print(cov)"
      ],
      "metadata": {
        "id": "9ZCJ4P-l7lrE",
        "colab": {
          "base_uri": "https://localhost:8080/"
        },
        "outputId": "b54b11c7-9fa7-41f0-f97d-92de886bf8dc"
      },
      "execution_count": null,
      "outputs": [
        {
          "output_type": "stream",
          "name": "stdout",
          "text": [
            "1908.7277141886009\n"
          ]
        }
      ]
    },
    {
      "cell_type": "markdown",
      "source": [
        "This is a high covariance considering it is positive and that it is quite large compared to the magnitude of the values in promo and budget."
      ],
      "metadata": {
        "id": "8Prk_8hYfDAR"
      }
    },
    {
      "cell_type": "markdown",
      "source": [
        "# Data Visualization"
      ],
      "metadata": {
        "id": "eiTujTFw7orS"
      }
    },
    {
      "cell_type": "markdown",
      "source": [
        "Chart that compares the distribution of the budget for each different number of stars."
      ],
      "metadata": {
        "id": "e907N-i-7r5N"
      }
    },
    {
      "cell_type": "code",
      "source": [
        "sns.boxplot(x='Stars', y='Budget', data=df)\n",
        "plt.xlabel('Stars')\n",
        "plt.ylabel('Budget(millions)')\n",
        "plt.show()"
      ],
      "metadata": {
        "id": "DZubydmS8eME",
        "colab": {
          "base_uri": "https://localhost:8080/",
          "height": 449
        },
        "outputId": "4f30aa54-f787-4b69-89d2-bfe91ff35cc1"
      },
      "execution_count": null,
      "outputs": [
        {
          "output_type": "display_data",
          "data": {
            "text/plain": [
              "<Figure size 640x480 with 1 Axes>"
            ],
            "image/png": "[encoded data removed]"
          },
          "metadata": {}
        }
      ]
    },
    {
      "cell_type": "markdown",
      "source": [
        "Graph showing the average movie budget over time."
      ],
      "metadata": {
        "id": "tUut9r0u8eYu"
      }
    },
    {
      "cell_type": "code",
      "source": [
        "avg = df.groupby('Year')['Budget'].mean()\n",
        "plt.plot(avg.index, avg.values)\n",
        "plt.xlabel('Year')\n",
        "plt.ylabel('Average Budget(millions)')\n",
        "plt.show()\n"
      ],
      "metadata": {
        "id": "ZG9Fc95v8qRf",
        "colab": {
          "base_uri": "https://localhost:8080/",
          "height": 449
        },
        "outputId": "378ee249-a9fb-40df-8c37-abdf1550e1bb"
      },
      "execution_count": null,
      "outputs": [
        {
          "output_type": "display_data",
          "data": {
            "text/plain": [
              "<Figure size 640x480 with 1 Axes>"
            ],
            "image/png": "[encoded data removed]"
          },
          "metadata": {}
        }
      ]
    },
    {
      "cell_type": "markdown",
      "source": [
        "# Feature Engineerin\n",
        "\n",
        "\n",
        "*I will use the vaderSentiment library to say whether a review is positive or negative. This will replace the existing reviews for each reviewer with a number score to measure their sentiment.\n",
        "\n",
        "*I will use PCA and negate title since it is mostly irrelevant. It is possible that sequel movies or remakes may automatically recieve better ratings or make more money. This is someting that is hard to measure and I decided that for most movies, the title will not be as relevant as the other features. It is also possible that title may sound particularly exciting for some of the audience, but this is also something I thought would be convluted and was not too sure would be easy to measure.\n",
        "\n",
        "*I will one-hot encode Season, Rating and Genre to turn them into numeric values."
      ],
      "metadata": {
        "id": "_UqUj1uy80Re"
      }
    },
    {
      "cell_type": "code",
      "source": [
        "#Title feature engineering\n",
        "df = df.drop('Title', axis=1)"
      ],
      "metadata": {
        "id": "2jgxQf8J-UsX"
      },
      "execution_count": null,
      "outputs": []
    },
    {
      "cell_type": "code",
      "source": [
        "#One hot coding feature engineering\n",
        "df = pd.get_dummies(df, columns=['Rating'], prefix='Rating')\n",
        "df = pd.get_dummies(df, columns=['Season'], prefix='Season')\n",
        "df = pd.get_dummies(df, columns=['Genre'], prefix='Genre')\n"
      ],
      "metadata": {
        "id": "s2OOpCqq-Vv2"
      },
      "execution_count": null,
      "outputs": []
    },
    {
      "cell_type": "code",
      "source": [
        "#Replacing reviews with a numeric value measuring their sentiment\n",
        "\n",
        "#Method that will measure the sentiment\n",
        "def replace(col):\n",
        "    sentiment = SentimentIntensityAnalyzer()\n",
        "    scores = col.apply(lambda x: sentiment.polarity_scores(x)['compound']) + 0.5\n",
        "    return scores\n",
        "\n",
        "df['R1'] = replace(df['R1'])\n",
        "df['R2'] = replace(df['R2'])\n",
        "df['R3'] = replace(df['R3'])"
      ],
      "metadata": {
        "id": "Mi-aTG-b-Wfp"
      },
      "execution_count": null,
      "outputs": []
    },
    {
      "cell_type": "markdown",
      "source": [
        "# Modeling\n",
        "\n",
        "I chose a random forest model"
      ],
      "metadata": {
        "id": "bj3Rdh229dLW"
      }
    },
    {
      "cell_type": "code",
      "source": [
        "X = df.drop('Success', axis=1)\n",
        "y = df['Success']\n",
        "\n",
        "X_train, X_test, y_train, y_test = train_test_split(X, y, test_size=0.1)\n",
        "\n",
        "clf = RandomForestClassifier()\n",
        "clf.fit(X_train, y_train)\n"
      ],
      "metadata": {
        "colab": {
          "base_uri": "https://localhost:8080/",
          "height": 74
        },
        "id": "8jqToumS-o_U",
        "outputId": "84a3a11b-8035-4438-ba97-f34c560ae7f0"
      },
      "execution_count": null,
      "outputs": [
        {
          "output_type": "execute_result",
          "data": {
            "text/plain": [
              "RandomForestClassifier()"
            ],
            "text/html": [
              "<style>#sk-container-id-19 {color: black;background-color: white;}#sk-container-id-19 pre{padding: 0;}#sk-container-id-19 div.sk-toggleable {background-color: white;}#sk-container-id-19 label.sk-toggleable__label {cursor: pointer;display: block;width: 100%;margin-bottom: 0;padding: 0.3em;box-sizing: border-box;text-align: center;}#sk-container-id-19 label.sk-toggleable__label-arrow:before {content: \"▸\";float: left;margin-right: 0.25em;color: #696969;}#sk-container-id-19 label.sk-toggleable__label-arrow:hover:before {color: black;}#sk-container-id-19 div.sk-estimator:hover label.sk-toggleable__label-arrow:before {color: black;}#sk-container-id-19 div.sk-toggleable__content {max-height: 0;max-width: 0;overflow: hidden;text-align: left;background-color: #f0f8ff;}#sk-container-id-19 div.sk-toggleable__content pre {margin: 0.2em;color: black;border-radius: 0.25em;background-color: #f0f8ff;}#sk-container-id-19 input.sk-toggleable__control:checked~div.sk-toggleable__content {max-height: 200px;max-width: 100%;overflow: auto;}#sk-container-id-19 input.sk-toggleable__control:checked~label.sk-toggleable__label-arrow:before {content: \"▾\";}#sk-container-id-19 div.sk-estimator input.sk-toggleable__control:checked~label.sk-toggleable__label {background-color: #d4ebff;}#sk-container-id-19 div.sk-label input.sk-toggleable__control:checked~label.sk-toggleable__label {background-color: #d4ebff;}#sk-container-id-19 input.sk-hidden--visually {border: 0;clip: rect(1px 1px 1px 1px);clip: rect(1px, 1px, 1px, 1px);height: 1px;margin: -1px;overflow: hidden;padding: 0;position: absolute;width: 1px;}#sk-container-id-19 div.sk-estimator {font-family: monospace;background-color: #f0f8ff;border: 1px dotted black;border-radius: 0.25em;box-sizing: border-box;margin-bottom: 0.5em;}#sk-container-id-19 div.sk-estimator:hover {background-color: #d4ebff;}#sk-container-id-19 div.sk-parallel-item::after {content: \"\";width: 100%;border-bottom: 1px solid gray;flex-grow: 1;}#sk-container-id-19 div.sk-label:hover label.sk-toggleable__label {background-color: #d4ebff;}#sk-container-id-19 div.sk-serial::before {content: \"\";position: absolute;border-left: 1px solid gray;box-sizing: border-box;top: 0;bottom: 0;left: 50%;z-index: 0;}#sk-container-id-19 div.sk-serial {display: flex;flex-direction: column;align-items: center;background-color: white;padding-right: 0.2em;padding-left: 0.2em;position: relative;}#sk-container-id-19 div.sk-item {position: relative;z-index: 1;}#sk-container-id-19 div.sk-parallel {display: flex;align-items: stretch;justify-content: center;background-color: white;position: relative;}#sk-container-id-19 div.sk-item::before, #sk-container-id-19 div.sk-parallel-item::before {content: \"\";position: absolute;border-left: 1px solid gray;box-sizing: border-box;top: 0;bottom: 0;left: 50%;z-index: -1;}#sk-container-id-19 div.sk-parallel-item {display: flex;flex-direction: column;z-index: 1;position: relative;background-color: white;}#sk-container-id-19 div.sk-parallel-item:first-child::after {align-self: flex-end;width: 50%;}#sk-container-id-19 div.sk-parallel-item:last-child::after {align-self: flex-start;width: 50%;}#sk-container-id-19 div.sk-parallel-item:only-child::after {width: 0;}#sk-container-id-19 div.sk-dashed-wrapped {border: 1px dashed gray;margin: 0 0.4em 0.5em 0.4em;box-sizing: border-box;padding-bottom: 0.4em;background-color: white;}#sk-container-id-19 div.sk-label label {font-family: monospace;font-weight: bold;display: inline-block;line-height: 1.2em;}#sk-container-id-19 div.sk-label-container {text-align: center;}#sk-container-id-19 div.sk-container {/* jupyter's `normalize.less` sets `[hidden] { display: none; }` but bootstrap.min.css set `[hidden] { display: none !important; }` so we also need the `!important` here to be able to override the default hidden behavior on the sphinx rendered scikit-learn.org. See: https://github.com/scikit-learn/scikit-learn/issues/21755 */display: inline-block !important;position: relative;}#sk-container-id-19 div.sk-text-repr-fallback {display: none;}</style><div id=\"sk-container-id-19\" class=\"sk-top-container\"><div class=\"sk-text-repr-fallback\"><pre>RandomForestClassifier()</pre><b>In a Jupyter environment, please rerun this cell to show the HTML representation or trust the notebook. <br />On GitHub, the HTML representation is unable to render, please try loading this page with nbviewer.org.</b></div><div class=\"sk-container\" hidden><div class=\"sk-item\"><div class=\"sk-estimator sk-toggleable\"><input class=\"sk-toggleable__control sk-hidden--visually\" id=\"sk-estimator-id-19\" type=\"checkbox\" checked><label for=\"sk-estimator-id-19\" class=\"sk-toggleable__label sk-toggleable__label-arrow\">RandomForestClassifier</label><div class=\"sk-toggleable__content\"><pre>RandomForestClassifier()</pre></div></div></div></div></div>"
            ]
          },
          "metadata": {},
          "execution_count": 409
        }
      ]
    },
    {
      "cell_type": "code",
      "source": [],
      "metadata": {
        "id": "jylxlxVZQ-8x"
      },
      "execution_count": null,
      "outputs": []
    },
    {
      "cell_type": "markdown",
      "source": [
        "# Testing"
      ],
      "metadata": {
        "id": "GY8VzL3J9mUi"
      }
    },
    {
      "cell_type": "markdown",
      "source": [
        "#Accuracy test with 90-10 split\n",
        "\n",
        "\n",
        "**Model accuracy:**0.8333333333333334\n",
        "\n"
      ],
      "metadata": {
        "id": "ZeLtWCur9p7x"
      }
    },
    {
      "cell_type": "code",
      "source": [
        "y_pred = clf.predict(X_test)\n",
        "accuracy = accuracy_score(y_test, y_pred)\n",
        "print(accuracy)\n"
      ],
      "metadata": {
        "id": "D4TIzTVT9o59",
        "colab": {
          "base_uri": "https://localhost:8080/"
        },
        "outputId": "c88ed211-7765-4624-907d-24637715d1e9"
      },
      "execution_count": null,
      "outputs": [
        {
          "output_type": "stream",
          "name": "stdout",
          "text": [
            "0.8333333333333334\n"
          ]
        }
      ]
    },
    {
      "cell_type": "markdown",
      "source": [
        "#Confusion matrix\n",
        "\n",
        "\n",
        "**False negative rate:** 16\n",
        "\n",
        "**False positive rate:** 0"
      ],
      "metadata": {
        "id": "qHtRp8Ip9qAW"
      }
    },
    {
      "cell_type": "code",
      "source": [
        "matrix = confusion_matrix(y_test, y_pred)\n",
        "print(matrix)"
      ],
      "metadata": {
        "id": "8-sgv2Ix_Adj",
        "colab": {
          "base_uri": "https://localhost:8080/"
        },
        "outputId": "1d6a124f-5cb8-4980-c664-f13b5a55dfab"
      },
      "execution_count": null,
      "outputs": [
        {
          "output_type": "stream",
          "name": "stdout",
          "text": [
            "[[41  0]\n",
            " [ 9  4]]\n"
          ]
        }
      ]
    },
    {
      "cell_type": "markdown",
      "source": [
        "\n",
        "\n",
        "**Most important feature:** R1\n"
      ],
      "metadata": {
        "id": "VdxaHXn5_Jt_"
      }
    },
    {
      "cell_type": "code",
      "source": [
        "clf = RandomForestClassifier()\n",
        "clf.fit(X, y)\n",
        "feature_importances = pd.DataFrame({'Feature': X.columns, 'Importance': clf.feature_importances_})\n",
        "print(feature_importances)\n"
      ],
      "metadata": {
        "id": "fTgKIBvV_swo",
        "colab": {
          "base_uri": "https://localhost:8080/"
        },
        "outputId": "4be8f4f8-47d1-46fb-b478-847b3fe00a71"
      },
      "execution_count": null,
      "outputs": [
        {
          "output_type": "stream",
          "name": "stdout",
          "text": [
            "                  Feature  Importance\n",
            "0                 Runtime    0.087478\n",
            "1                   Stars    0.086424\n",
            "2                    Year    0.064961\n",
            "3                  Budget    0.101259\n",
            "4                   Promo    0.121628\n",
            "5                      R1    0.260373\n",
            "6                      R2    0.073415\n",
            "7                      R3    0.066879\n",
            "8               Rating_PG    0.012846\n",
            "9             Rating_PG13    0.013737\n",
            "10               Rating_R    0.015385\n",
            "11            Season_Fall    0.009688\n",
            "12          Season_Spring    0.010703\n",
            "13          Season_Summer    0.011984\n",
            "14          Season_Winter    0.011504\n",
            "15           Genre_Action    0.021473\n",
            "16            Genre_Drama    0.011140\n",
            "17          Genre_Fantasy    0.004747\n",
            "18  Genre_Romantic Comedy    0.010583\n",
            "19  Genre_Science fiction    0.003790\n"
          ]
        }
      ]
    },
    {
      "cell_type": "markdown",
      "source": [
        "As can be seen from the list above, R1 is the most important feature\n"
      ],
      "metadata": {
        "id": "dIUxg29yPFL0"
      }
    }
  ]
}